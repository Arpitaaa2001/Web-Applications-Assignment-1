{
  "cells": [
    {
      "cell_type": "markdown",
      "metadata": {
        "id": "-D8iTwIkmKYQ"
      },
      "source": [
        "<a href=\"https://colab.research.google.com/github/mirsazzathossain/CSE317-Lab/blob/main/Lab_Assignment_01.ipynb\" target=\"_parent\"><img src=\"https://colab.research.google.com/assets/colab-badge.svg\" alt=\"Open In Colab\"/></a>"
      ]
    },
    {
      "cell_type": "markdown",
      "metadata": {
        "id": "agUuDxrBmKYS"
      },
      "source": [
        "#### **Homework 01:**\n",
        "Generate random matrix of size 10 x 5. Then, solve the following problems:"
      ]
    },
    {
      "cell_type": "code",
      "execution_count": 3,
      "metadata": {
        "colab": {
          "base_uri": "https://localhost:8080/"
        },
        "id": "21giJlJKmKYT",
        "outputId": "0e456a48-b25c-42d3-bad5-19fb5ce9a197"
      },
      "outputs": [
        {
          "output_type": "stream",
          "name": "stdout",
          "text": [
            "[[0.38285446 0.50928282 0.72708345 0.8412874  0.45508095]\n",
            " [0.79379131 0.63862926 0.04656912 0.29661637 0.76913213]\n",
            " [0.38672282 0.23588716 0.59507463 0.92153477 0.16160539]\n",
            " [0.58459139 0.14421579 0.62034302 0.14091309 0.20343075]\n",
            " [0.75666436 0.5887271  0.40937354 0.41657518 0.75138187]\n",
            " [0.13370408 0.37384806 0.52865005 0.46331806 0.70394615]\n",
            " [0.04924303 0.47079257 0.37307193 0.64730027 0.78708472]\n",
            " [0.09135904 0.17753173 0.09268124 0.05550558 0.59599846]\n",
            " [0.59768355 0.30426959 0.58444387 0.93001245 0.03153535]\n",
            " [0.73604843 0.81275979 0.37654566 0.50867387 0.26421074]]\n"
          ]
        }
      ],
      "source": [
        "# Write your code to create the 10x5 random matrix here\n",
        "import numpy as np\n",
        "\n",
        "matrix = np.random.rand(10, 5)\n",
        "print(matrix)"
      ]
    },
    {
      "cell_type": "markdown",
      "metadata": {
        "id": "x_49XPDnmKYT"
      },
      "source": [
        "##### **Problem 01:**\n",
        "Calculate the sum and mean of the 2nd row of the matrix."
      ]
    },
    {
      "cell_type": "code",
      "execution_count": 4,
      "metadata": {
        "colab": {
          "base_uri": "https://localhost:8080/"
        },
        "id": "r_DXPs3bmKYU",
        "outputId": "ebc636e3-d08f-44d9-8d72-d56451ff3c45"
      },
      "outputs": [
        {
          "output_type": "stream",
          "name": "stdout",
          "text": [
            "Sum of the second row: 1.9111535957169083\n",
            "Mean of the second row: 0.3822307191433817\n"
          ]
        }
      ],
      "source": [
        "# Write your code here\n",
        "import numpy as np\n",
        "\n",
        "matrix = np.random.rand(10, 5)\n",
        "\n",
        "second_row = matrix[1, :]\n",
        "row_sum = np.sum(second_row)\n",
        "row_mean = np.mean(second_row)\n",
        "\n",
        "print(\"Sum of the second row:\", row_sum)\n",
        "print(\"Mean of the second row:\", row_mean)"
      ]
    },
    {
      "cell_type": "markdown",
      "metadata": {
        "id": "JC-GtY9HmKYU"
      },
      "source": [
        "##### **Problem 02:**\n",
        "Find the sum and mean of all the rows of the matrix."
      ]
    },
    {
      "cell_type": "code",
      "execution_count": 5,
      "metadata": {
        "colab": {
          "base_uri": "https://localhost:8080/"
        },
        "id": "fXd3APN8mKYU",
        "outputId": "d8e7c1dc-053a-4e80-be9d-d3fe6ea29e89"
      },
      "outputs": [
        {
          "output_type": "stream",
          "name": "stdout",
          "text": [
            "Sum of each row: [3.098372   1.18721083 2.31710072 2.98266247 3.93548956 3.29600129\n",
            " 3.61319076 1.78042382 1.48514129 3.13273662]\n",
            "Mean of each row: [0.6196744  0.23744217 0.46342014 0.59653249 0.78709791 0.65920026\n",
            " 0.72263815 0.35608476 0.29702826 0.62654732]\n"
          ]
        }
      ],
      "source": [
        "# Write your code here\n",
        "import numpy as np\n",
        "\n",
        "matrix = np.random.rand(10, 5)\n",
        "\n",
        "total_sum = np.sum(matrix)\n",
        "total_mean = np.mean(matrix)\n",
        "\n",
        "print(\"Sum of all rows:\", total_sum)\n",
        "print(\"Mean of all rows:\", total_mean)"
      ]
    },
    {
      "cell_type": "markdown",
      "metadata": {
        "id": "Aj5uqWApmKYV"
      },
      "source": [
        "##### **Problem 03:**\n",
        "Find the mean of the 3rd column of the matrix without using the built-in function and loop."
      ]
    },
    {
      "cell_type": "code",
      "execution_count": null,
      "metadata": {
        "id": "9z6XGyezmKYV"
      },
      "outputs": [],
      "source": [
        "# Write your code here\n",
        "import numpy as np\n",
        "\n",
        "matrix = np.random.rand(10, 5)\n",
        "\n",
        "third_column = matrix[:, 2]\n",
        "column_mean = np.sum(third_column) / len(third_column)\n",
        "\n",
        "print(\"Mean of the 3rd column:\", column_mean)"
      ]
    },
    {
      "cell_type": "markdown",
      "metadata": {
        "id": "KcP0TOkmmKYV"
      },
      "source": [
        "##### **Problem 04:**\n",
        "Generate the vector `[25, 16, 9, 4, 1]` and then find the square root of each element of the vector using for loop. **Hint:** Use `np.sqrt()` function to find the square root of a number, don't use any other built-in function."
      ]
    },
    {
      "cell_type": "code",
      "execution_count": 6,
      "metadata": {
        "colab": {
          "base_uri": "https://localhost:8080/"
        },
        "id": "rEhG1C17mKYV",
        "outputId": "98579b3d-08e7-4d4b-b070-5acfcc0811eb"
      },
      "outputs": [
        {
          "output_type": "stream",
          "name": "stdout",
          "text": [
            "Square root of the vector: [5. 4. 3. 2. 1.]\n"
          ]
        }
      ],
      "source": [
        "# Write your code here\n",
        "import numpy as np\n",
        "\n",
        "vector = np.array([25, 16, 9, 4, 1])\n",
        "sqrt_vector = np.empty(len(vector))\n",
        "\n",
        "for i in range(len(vector)):\n",
        "    sqrt_vector[i] = np.sqrt(vector[i])\n",
        "\n",
        "print(\"Square root of the vector:\", sqrt_vector)"
      ]
    },
    {
      "cell_type": "markdown",
      "metadata": {
        "id": "Y0vUcB6wmKYV"
      },
      "source": [
        "##### **Problem 05:**\n",
        "Write a function that takes a number and returns a vector like the previous problem. For example, if the input is 5, then the output should be `[25, 16, 9, 4, 1]`. If the input is 10, then the output should be `[100, 81, 64, 49, 36, 25, 16, 9, 4, 1]`."
      ]
    },
    {
      "cell_type": "code",
      "execution_count": 8,
      "metadata": {
        "id": "ygK3wnIJmKYW"
      },
      "outputs": [],
      "source": [
        "# Write your code here\n",
        "def square_vector(n):\n",
        "    vector = [i**2 for i in range(n, 0, -1)]\n",
        "    return vector\n",
        "\n",
        "input_number = int(input(\"Enter a number: \"))\n",
        "result = square_vector(input_number)\n",
        "print(\"Output vector:\", result)"
      ]
    },
    {
      "cell_type": "markdown",
      "metadata": {
        "id": "cQrWfStnmKYW"
      },
      "source": [
        "##### **Problem 06:**\n",
        "Generate the following block matrix:\n",
        "\n",
        "$$\n",
        "\\begin{bmatrix}\n",
        "1 & 0 & 0 & 2 & 2 \\\\\n",
        "0 & 1 & 0 & 2 & 2 \\\\\n",
        "0 & 0 & 1 & 2 & 2 \\\\\n",
        "25 & 16 & 9 & 4 & 1 \\\\\n",
        "\\end{bmatrix}\n",
        "$$\n",
        "\n",
        "You can use any built-in function to generate the matrix."
      ]
    },
    {
      "cell_type": "code",
      "execution_count": 12,
      "metadata": {
        "colab": {
          "base_uri": "https://localhost:8080/"
        },
        "id": "fT9NxusxmKYW",
        "outputId": "67986392-c55c-4466-978f-5be52e4217db"
      },
      "outputs": [
        {
          "output_type": "stream",
          "name": "stdout",
          "text": [
            "[[ 1  0  0  2  2]\n",
            " [ 0  1  0  2  2]\n",
            " [ 0  0  1  2  2]\n",
            " [25 16  9  4  1]]\n"
          ]
        }
      ],
      "source": [
        "# Write your code here\n",
        "import numpy as np\n",
        "\n",
        "matrix = np.array([[1, 0, 0, 2, 2],\n",
        "                   [0, 1, 0, 2, 2],\n",
        "                   [0, 0, 1, 2, 2],\n",
        "                   [25, 16, 9, 4, 1]])\n",
        "\n",
        "print(matrix)\n"
      ]
    },
    {
      "cell_type": "markdown",
      "metadata": {
        "id": "WSGIFKa0mKYW"
      },
      "source": [
        "##### **Problem 07:**\n",
        "Plot $y = 2x^2 + 3x + 1$ for $x \\in [-3, 3]$ with interval 0.25. You can use any built-in function to plot the graph."
      ]
    },
    {
      "cell_type": "code",
      "execution_count": null,
      "metadata": {
        "id": "KmKeVvzpmKYW"
      },
      "outputs": [],
      "source": [
        "# Write your code here"
      ]
    },
    {
      "cell_type": "markdown",
      "metadata": {
        "id": "yXNFuaTwmKYW"
      },
      "source": [
        "##### **Problem 08:**\n",
        "Plot $x + y + z = 1$ for $x, y \\in [-3, 3]$ with interval 0.5. Use meshgrid to generate the grid. You can use any built-in function to plot the surface."
      ]
    },
    {
      "cell_type": "code",
      "execution_count": 13,
      "metadata": {
        "colab": {
          "base_uri": "https://localhost:8080/",
          "height": 472
        },
        "id": "4U9kqXODmKYW",
        "outputId": "8f50f26f-22ec-4d3c-939c-f6830704f58e"
      },
      "outputs": [
        {
          "output_type": "display_data",
          "data": {
            "text/plain": [
              "<Figure size 640x480 with 1 Axes>"
            ],
            "image/png": "[encoded data removed]"
          },
          "metadata": {}
        }
      ],
      "source": [
        "# Write your code here\n",
        "import numpy as np\n",
        "import matplotlib.pyplot as plt\n",
        "\n",
        "x = np.arange(-3, 3.25, 0.25)\n",
        "y = 2*x**2 + 3*x + 1\n",
        "\n",
        "plt.plot(x, y)\n",
        "plt.xlabel('x')\n",
        "plt.ylabel('y')\n",
        "plt.title('Graph of y = 2x^2 + 3x + 1')\n",
        "plt.grid(True)\n",
        "plt.show()"
      ]
    },
    {
      "cell_type": "markdown",
      "metadata": {
        "id": "FrTFvu59mKYW"
      },
      "source": [
        "##### **Problem 09:**\n",
        "Download the image of Lena Forsen from the following link: [https://upload.wikimedia.org/wikipedia/en/7/7d/Lenna_%28test_image%29.png](https://upload.wikimedia.org/wikipedia/en/7/7d/Lenna_%28test_image%29.png). Then, do the following tasks:\n",
        "\n",
        "*  Load the image to a numpy array.\n",
        "*  Find the size of the image.\n",
        "*  Find the minimum and maximum value of the image.\n",
        "*  Find the mean and standard deviation of the image.\n",
        "*  Plot the image using `plt.imshow()` or `display()`.\n",
        "*  Resize the image to 50 x 50.\n",
        "*  Convert the image to grayscale.\n",
        "*  Plot the grayscale image using `plt.imshow()` or `display()`.\n",
        "*  Save the grayscale image using `imsave()`.\n",
        "*  Stack the columns of the image to form a vector of size 2500 x 1."
      ]
    },
    {
      "cell_type": "code",
      "execution_count": 20,
      "metadata": {
        "colab": {
          "base_uri": "https://localhost:8080/",
          "height": 356
        },
        "id": "sL_ekaITmKYX",
        "outputId": "5f82cce4-e8fe-4839-b2eb-7e51abf21509"
      },
      "outputs": [
        {
          "output_type": "error",
          "ename": "FileNotFoundError",
          "evalue": "ignored",
          "traceback": [
            "\u001b[0;31m---------------------------------------------------------------------------\u001b[0m",
            "\u001b[0;31mFileNotFoundError\u001b[0m                         Traceback (most recent call last)",
            "\u001b[0;32m<ipython-input-20-23f89cf4f255>\u001b[0m in \u001b[0;36m<cell line: 8>\u001b[0;34m()\u001b[0m\n\u001b[1;32m      6\u001b[0m \u001b[0;31m# Load the image\u001b[0m\u001b[0;34m\u001b[0m\u001b[0;34m\u001b[0m\u001b[0m\n\u001b[1;32m      7\u001b[0m \u001b[0mimage_url\u001b[0m \u001b[0;34m=\u001b[0m \u001b[0;34m\"https://upload.wikimedia.org/wikipedia/en/7/7d/Lenna_%28test_image%29.png\"\u001b[0m\u001b[0;34m\u001b[0m\u001b[0;34m\u001b[0m\u001b[0m\n\u001b[0;32m----> 8\u001b[0;31m \u001b[0mlena_image\u001b[0m \u001b[0;34m=\u001b[0m \u001b[0mImage\u001b[0m\u001b[0;34m.\u001b[0m\u001b[0mopen\u001b[0m\u001b[0;34m(\u001b[0m\u001b[0mimage_url\u001b[0m\u001b[0;34m)\u001b[0m\u001b[0;34m\u001b[0m\u001b[0;34m\u001b[0m\u001b[0m\n\u001b[0m\u001b[1;32m      9\u001b[0m \u001b[0;34m\u001b[0m\u001b[0m\n\u001b[1;32m     10\u001b[0m \u001b[0;31m# Convert the image to a numpy array\u001b[0m\u001b[0;34m\u001b[0m\u001b[0;34m\u001b[0m\u001b[0m\n",
            "\u001b[0;32m/usr/local/lib/python3.10/dist-packages/PIL/Image.py\u001b[0m in \u001b[0;36mopen\u001b[0;34m(fp, mode, formats)\u001b[0m\n\u001b[1;32m   2973\u001b[0m \u001b[0;34m\u001b[0m\u001b[0m\n\u001b[1;32m   2974\u001b[0m     \u001b[0;32mif\u001b[0m \u001b[0mfilename\u001b[0m\u001b[0;34m:\u001b[0m\u001b[0;34m\u001b[0m\u001b[0;34m\u001b[0m\u001b[0m\n\u001b[0;32m-> 2975\u001b[0;31m         \u001b[0mfp\u001b[0m \u001b[0;34m=\u001b[0m \u001b[0mbuiltins\u001b[0m\u001b[0;34m.\u001b[0m\u001b[0mopen\u001b[0m\u001b[0;34m(\u001b[0m\u001b[0mfilename\u001b[0m\u001b[0;34m,\u001b[0m \u001b[0;34m\"rb\"\u001b[0m\u001b[0;34m)\u001b[0m\u001b[0;34m\u001b[0m\u001b[0;34m\u001b[0m\u001b[0m\n\u001b[0m\u001b[1;32m   2976\u001b[0m         \u001b[0mexclusive_fp\u001b[0m \u001b[0;34m=\u001b[0m \u001b[0;32mTrue\u001b[0m\u001b[0;34m\u001b[0m\u001b[0;34m\u001b[0m\u001b[0m\n\u001b[1;32m   2977\u001b[0m \u001b[0;34m\u001b[0m\u001b[0m\n",
            "\u001b[0;31mFileNotFoundError\u001b[0m: [Errno 2] No such file or directory: 'https://upload.wikimedia.org/wikipedia/en/7/7d/Lenna_%28test_image%29.png'"
          ]
        }
      ],
      "source": [
        "# Write your code here\n"
      ]
    },
    {
      "cell_type": "markdown",
      "metadata": {
        "id": "g17qEg7hmKYX"
      },
      "source": [
        "##### **Problem 10:**\n",
        "Compute 2nd order Taylor approximation of $e^{2x}$ and $e^{3x}$, and $e^{5x}$ around $a = 0$ for $x \\in [-1, 1]$ with interval 0.01. Then, determine which of the following is more accurate:\n",
        "> 1. Calculating the Taylor approximation separately for each $e^{2x}$, $e^{3x}$ then multiplying them together.\n",
        "> 2. Calculating the Taylor approximation for $e^{5x}$.\n",
        "\n",
        "Use mean square error (MSE) to determine the accuracy. Also, plot the Taylor approximation for 1st and 2nd method and the original function in the same plot for visual comparison."
      ]
    },
    {
      "cell_type": "code",
      "execution_count": 22,
      "metadata": {
        "colab": {
          "base_uri": "https://localhost:8080/",
          "height": 466
        },
        "id": "1ck_IHbJmKYX",
        "outputId": "5a76b8f8-078f-44a3-a2d1-a8b425e73f5d"
      },
      "outputs": [
        {
          "output_type": "stream",
          "name": "stdout",
          "text": [
            "First Method is better\n"
          ]
        },
        {
          "output_type": "display_data",
          "data": {
            "text/plain": [
              "<Figure size 640x480 with 1 Axes>"
            ],
            "image/png": "[encoded data removed]"
          },
          "metadata": {}
        }
      ],
      "source": [
        "# Write your code here\n",
        "import numpy as np\n",
        "import matplotlib.pyplot as plt\n",
        "\n",
        "x = np.arange(-1, 1, 0.01)\n",
        "a = 0\n",
        "\n",
        "def taylor_approximation_e2x(x):\n",
        "    return 1 + 2*x + (1/2)*(2**2)*(x-a)**2\n",
        "\n",
        "def taylor_approximation_e3x(x):\n",
        "    return 1 + 3*x + (1/2)*(3**2)*(x-a)**2\n",
        "\n",
        "def taylor_approximation_e5x(x):\n",
        "    return 1 + 5*x + (1/2)*(5**2)*(x-a)**2\n",
        "\n",
        "def MSE(act, pred):\n",
        "    return ((act - pred)**2).mean()\n",
        "\n",
        "if MSE(np.exp(5*x), taylor_approximation_e5x(x)) > MSE(np.exp(2*x)*np.exp(3*x), taylor_approximation_e2x(x) * taylor_approximation_e3x(x)):\n",
        "    print(\"First Method is better\")\n",
        "else:\n",
        "    print(\"Second Method is better\")\n",
        "\n",
        "plt.plot(x, np.exp(5*x))\n",
        "plt.plot(x, taylor_approximation_e2x(x) * taylor_approximation_e3x(x))\n",
        "plt.plot(x, taylor_approximation_e5x(x))\n",
        "plt.xlabel(\"x\")\n",
        "plt.ylabel(\"y\")\n",
        "plt.legend([\"e^5x\", \"Tx(e^2x)(e^3x)\", \"Tx(e^5x)\"])\n",
        "plt.show()"
      ]
    }
  ],
  "metadata": {
    "kernelspec": {
      "display_name": "Python 3.10.6 64-bit",
      "language": "python",
      "name": "python3"
    },
    "language_info": {
      "codemirror_mode": {
        "name": "ipython",
        "version": 3
      },
      "file_extension": ".py",
      "mimetype": "text/x-python",
      "name": "python",
      "nbconvert_exporter": "python",
      "pygments_lexer": "ipython3",
      "version": "3.10.6 (tags/v3.10.6:9c7b4bd, Aug  1 2022, 21:53:49) [MSC v.1932 64 bit (AMD64)]"
    },
    "orig_nbformat": 4,
    "vscode": {
      "interpreter": {
        "hash": "b148fc9bfa8b60132af830e32e1690e4e023b803e92912df15b823b90141dda6"
      }
    },
    "colab": {
      "provenance": []
    }
  },
  "nbformat": 4,
  "nbformat_minor": 0
}